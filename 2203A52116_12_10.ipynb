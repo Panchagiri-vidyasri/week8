{
  "nbformat": 4,
  "nbformat_minor": 0,
  "metadata": {
    "colab": {
      "provenance": []
    },
    "kernelspec": {
      "name": "python3",
      "display_name": "Python 3"
    },
    "language_info": {
      "name": "python"
    }
  },
  "cells": [
    {
      "cell_type": "code",
      "execution_count": 56,
      "metadata": {
        "colab": {
          "base_uri": "https://localhost:8080/"
        },
        "id": "l-FHVVpN6V3j",
        "outputId": "364cdb20-5fe0-46a4-80bd-6effceab9c31"
      },
      "outputs": [
        {
          "output_type": "stream",
          "name": "stdout",
          "text": [
            "     Alcohol  Malic_Acid   Ash  Ash_Alcanity  Magnesium  Total_Phenols  \\\n",
            "0      14.23        1.71  2.43          15.6        127           2.80   \n",
            "1      13.20        1.78  2.14          11.2        100           2.65   \n",
            "2      13.16        2.36  2.67          18.6        101           2.80   \n",
            "3      14.37        1.95  2.50          16.8        113           3.85   \n",
            "4      13.24        2.59  2.87          21.0        118           2.80   \n",
            "..       ...         ...   ...           ...        ...            ...   \n",
            "173    13.71        5.65  2.45          20.5         95           1.68   \n",
            "174    13.40        3.91  2.48          23.0        102           1.80   \n",
            "175    13.27        4.28  2.26          20.0        120           1.59   \n",
            "176    13.17        2.59  2.37          20.0        120           1.65   \n",
            "177    14.13        4.10  2.74          24.5         96           2.05   \n",
            "\n",
            "     Flavanoids  Nonflavanoid_Phenols  Proanthocyanins  Color_Intensity   Hue  \\\n",
            "0          3.06                  0.28             2.29             5.64  1.04   \n",
            "1          2.76                  0.26             1.28             4.38  1.05   \n",
            "2          3.24                  0.30             2.81             5.68  1.03   \n",
            "3          3.49                  0.24             2.18             7.80  0.86   \n",
            "4          2.69                  0.39             1.82             4.32  1.04   \n",
            "..          ...                   ...              ...              ...   ...   \n",
            "173        0.61                  0.52             1.06             7.70  0.64   \n",
            "174        0.75                  0.43             1.41             7.30  0.70   \n",
            "175        0.69                  0.43             1.35            10.20  0.59   \n",
            "176        0.68                  0.53             1.46             9.30  0.60   \n",
            "177        0.76                  0.56             1.35             9.20  0.61   \n",
            "\n",
            "     OD280  Proline  Customer_Segment  \n",
            "0     3.92     1065                 1  \n",
            "1     3.40     1050                 1  \n",
            "2     3.17     1185                 1  \n",
            "3     3.45     1480                 1  \n",
            "4     2.93      735                 1  \n",
            "..     ...      ...               ...  \n",
            "173   1.74      740                 3  \n",
            "174   1.56      750                 3  \n",
            "175   1.56      835                 3  \n",
            "176   1.62      840                 3  \n",
            "177   1.60      560                 3  \n",
            "\n",
            "[178 rows x 14 columns]\n"
          ]
        }
      ],
      "source": [
        "import pandas as pd\n",
        "a=pd.read_csv(\"/content/Wine.csv\")\n",
        "print(a)"
      ]
    },
    {
      "cell_type": "code",
      "source": [
        "x=a.drop('Customer_Segment',axis=1)\n",
        "print(x)"
      ],
      "metadata": {
        "colab": {
          "base_uri": "https://localhost:8080/"
        },
        "id": "_ryqHIYS67ft",
        "outputId": "22f1e088-6fbf-4713-80b3-693a82475e8a"
      },
      "execution_count": 57,
      "outputs": [
        {
          "output_type": "stream",
          "name": "stdout",
          "text": [
            "     Alcohol  Malic_Acid   Ash  Ash_Alcanity  Magnesium  Total_Phenols  \\\n",
            "0      14.23        1.71  2.43          15.6        127           2.80   \n",
            "1      13.20        1.78  2.14          11.2        100           2.65   \n",
            "2      13.16        2.36  2.67          18.6        101           2.80   \n",
            "3      14.37        1.95  2.50          16.8        113           3.85   \n",
            "4      13.24        2.59  2.87          21.0        118           2.80   \n",
            "..       ...         ...   ...           ...        ...            ...   \n",
            "173    13.71        5.65  2.45          20.5         95           1.68   \n",
            "174    13.40        3.91  2.48          23.0        102           1.80   \n",
            "175    13.27        4.28  2.26          20.0        120           1.59   \n",
            "176    13.17        2.59  2.37          20.0        120           1.65   \n",
            "177    14.13        4.10  2.74          24.5         96           2.05   \n",
            "\n",
            "     Flavanoids  Nonflavanoid_Phenols  Proanthocyanins  Color_Intensity   Hue  \\\n",
            "0          3.06                  0.28             2.29             5.64  1.04   \n",
            "1          2.76                  0.26             1.28             4.38  1.05   \n",
            "2          3.24                  0.30             2.81             5.68  1.03   \n",
            "3          3.49                  0.24             2.18             7.80  0.86   \n",
            "4          2.69                  0.39             1.82             4.32  1.04   \n",
            "..          ...                   ...              ...              ...   ...   \n",
            "173        0.61                  0.52             1.06             7.70  0.64   \n",
            "174        0.75                  0.43             1.41             7.30  0.70   \n",
            "175        0.69                  0.43             1.35            10.20  0.59   \n",
            "176        0.68                  0.53             1.46             9.30  0.60   \n",
            "177        0.76                  0.56             1.35             9.20  0.61   \n",
            "\n",
            "     OD280  Proline  \n",
            "0     3.92     1065  \n",
            "1     3.40     1050  \n",
            "2     3.17     1185  \n",
            "3     3.45     1480  \n",
            "4     2.93      735  \n",
            "..     ...      ...  \n",
            "173   1.74      740  \n",
            "174   1.56      750  \n",
            "175   1.56      835  \n",
            "176   1.62      840  \n",
            "177   1.60      560  \n",
            "\n",
            "[178 rows x 13 columns]\n"
          ]
        }
      ]
    },
    {
      "cell_type": "code",
      "source": [
        "y=a['Customer_Segment']\n",
        "print(y)"
      ],
      "metadata": {
        "colab": {
          "base_uri": "https://localhost:8080/"
        },
        "id": "NMAuPWQl7OBm",
        "outputId": "80cd5bab-bf45-45cf-db51-fe1a51327538"
      },
      "execution_count": 58,
      "outputs": [
        {
          "output_type": "stream",
          "name": "stdout",
          "text": [
            "0      1\n",
            "1      1\n",
            "2      1\n",
            "3      1\n",
            "4      1\n",
            "      ..\n",
            "173    3\n",
            "174    3\n",
            "175    3\n",
            "176    3\n",
            "177    3\n",
            "Name: Customer_Segment, Length: 178, dtype: int64\n"
          ]
        }
      ]
    },
    {
      "cell_type": "code",
      "source": [
        "from sklearn.preprocessing import MinMaxScaler\n",
        "scaler = MinMaxScaler()\n",
        "x_scaled = scaler.fit_transform(x)\n",
        "print(pd.DataFrame(x_scaled, columns=x.columns))"
      ],
      "metadata": {
        "colab": {
          "base_uri": "https://localhost:8080/"
        },
        "id": "28a4tmG678Zl",
        "outputId": "f0a33be7-849a-46d7-a830-13744c216df5"
      },
      "execution_count": 59,
      "outputs": [
        {
          "output_type": "stream",
          "name": "stdout",
          "text": [
            "      Alcohol  Malic_Acid       Ash  Ash_Alcanity  Magnesium  Total_Phenols  \\\n",
            "0    0.842105    0.191700  0.572193      0.257732   0.619565       0.627586   \n",
            "1    0.571053    0.205534  0.417112      0.030928   0.326087       0.575862   \n",
            "2    0.560526    0.320158  0.700535      0.412371   0.336957       0.627586   \n",
            "3    0.878947    0.239130  0.609626      0.319588   0.467391       0.989655   \n",
            "4    0.581579    0.365613  0.807487      0.536082   0.521739       0.627586   \n",
            "..        ...         ...       ...           ...        ...            ...   \n",
            "173  0.705263    0.970356  0.582888      0.510309   0.271739       0.241379   \n",
            "174  0.623684    0.626482  0.598930      0.639175   0.347826       0.282759   \n",
            "175  0.589474    0.699605  0.481283      0.484536   0.543478       0.210345   \n",
            "176  0.563158    0.365613  0.540107      0.484536   0.543478       0.231034   \n",
            "177  0.815789    0.664032  0.737968      0.716495   0.282609       0.368966   \n",
            "\n",
            "     Flavanoids  Nonflavanoid_Phenols  Proanthocyanins  Color_Intensity  \\\n",
            "0      0.573840              0.283019         0.593060         0.372014   \n",
            "1      0.510549              0.245283         0.274448         0.264505   \n",
            "2      0.611814              0.320755         0.757098         0.375427   \n",
            "3      0.664557              0.207547         0.558360         0.556314   \n",
            "4      0.495781              0.490566         0.444795         0.259386   \n",
            "..          ...                   ...              ...              ...   \n",
            "173    0.056962              0.735849         0.205047         0.547782   \n",
            "174    0.086498              0.566038         0.315457         0.513652   \n",
            "175    0.073840              0.566038         0.296530         0.761092   \n",
            "176    0.071730              0.754717         0.331230         0.684300   \n",
            "177    0.088608              0.811321         0.296530         0.675768   \n",
            "\n",
            "          Hue     OD280   Proline  \n",
            "0    0.455285  0.970696  0.561341  \n",
            "1    0.463415  0.780220  0.550642  \n",
            "2    0.447154  0.695971  0.646933  \n",
            "3    0.308943  0.798535  0.857347  \n",
            "4    0.455285  0.608059  0.325963  \n",
            "..        ...       ...       ...  \n",
            "173  0.130081  0.172161  0.329529  \n",
            "174  0.178862  0.106227  0.336662  \n",
            "175  0.089431  0.106227  0.397290  \n",
            "176  0.097561  0.128205  0.400856  \n",
            "177  0.105691  0.120879  0.201141  \n",
            "\n",
            "[178 rows x 13 columns]\n"
          ]
        }
      ]
    },
    {
      "cell_type": "code",
      "source": [
        "features=x_scaled\n",
        "print(features)\n",
        "target=y\n",
        "print(target)"
      ],
      "metadata": {
        "colab": {
          "base_uri": "https://localhost:8080/"
        },
        "id": "UyjwOOKJ7uot",
        "outputId": "ebd8fdb0-91b9-41ab-976c-5f2a41cf2b82"
      },
      "execution_count": 60,
      "outputs": [
        {
          "output_type": "stream",
          "name": "stdout",
          "text": [
            "[[0.84210526 0.1916996  0.57219251 ... 0.45528455 0.97069597 0.56134094]\n",
            " [0.57105263 0.2055336  0.4171123  ... 0.46341463 0.78021978 0.55064194]\n",
            " [0.56052632 0.3201581  0.70053476 ... 0.44715447 0.6959707  0.64693295]\n",
            " ...\n",
            " [0.58947368 0.69960474 0.48128342 ... 0.08943089 0.10622711 0.39728959]\n",
            " [0.56315789 0.36561265 0.54010695 ... 0.09756098 0.12820513 0.40085592]\n",
            " [0.81578947 0.66403162 0.73796791 ... 0.10569106 0.12087912 0.20114123]]\n",
            "0      1\n",
            "1      1\n",
            "2      1\n",
            "3      1\n",
            "4      1\n",
            "      ..\n",
            "173    3\n",
            "174    3\n",
            "175    3\n",
            "176    3\n",
            "177    3\n",
            "Name: Customer_Segment, Length: 178, dtype: int64\n"
          ]
        }
      ]
    },
    {
      "cell_type": "code",
      "source": [
        "import numpy as np\n",
        "from sklearn import datasets\n",
        "from sklearn.preprocessing import StandardScaler\n",
        "from sklearn.decomposition import PCA\n",
        "import matplotlib.pyplot as plt\n",
        "scaler = StandardScaler()\n",
        "X_scaled = scaler.fit_transform(features)\n",
        "pca = PCA(n_components=2)\n",
        "X_pca = pca.fit_transform(X_scaled)\n",
        "explained_variance_ratio = pca.explained_variance_ratio_\n",
        "print(f\"Explained Variance Ratio: {explained_variance_ratio}\")\n",
        "plt.figure(figsize=(8, 6))\n",
        "plt.scatter(X_pca[:, 0], X_pca[:, 1], c=target, cmap='autumn')\n",
        "plt.xlabel('First Principal Component')\n",
        "plt.ylabel('Second Principal Component')\n",
        "plt.colorbar()\n",
        "plt.show()"
      ],
      "metadata": {
        "colab": {
          "base_uri": "https://localhost:8080/",
          "height": 564
        },
        "id": "WClk4H039kez",
        "outputId": "263a7bf2-20d5-4770-b788-c9fc17e942cb"
      },
      "execution_count": 61,
      "outputs": [
        {
          "output_type": "stream",
          "name": "stdout",
          "text": [
            "Explained Variance Ratio: [0.36198848 0.1920749 ]\n"
          ]
        },
        {
          "output_type": "display_data",
          "data": {
            "text/plain": [
              "<Figure size 800x600 with 2 Axes>"
            ],
            "image/png": "[encoded data removed]"
          },
          "metadata": {}
        }
      ]
    },
    {
      "cell_type": "code",
      "source": [
        "import numpy as np\n",
        "from sklearn import datasets\n",
        "from sklearn.model_selection import train_test_split\n",
        "from sklearn.svm import SVC\n",
        "from sklearn.metrics import accuracy_score\n",
        "from sklearn.decomposition import PCA\n",
        "from sklearn.preprocessing import StandardScaler\n",
        "X_train, X_test, y_train, y_test = train_test_split(x, y, test_size=0.3, random_state=1)\n",
        "svm_original = SVC()\n",
        "svm_original.fit(X_train, y_train)\n",
        "y_pred_original = svm_original.predict(X_test)\n",
        "accuracy_original = accuracy_score(y_test, y_pred_original)\n",
        "print(f\"Accuracy before PCA: {accuracy_original:.2f}\")\n",
        "scaler = StandardScaler()\n",
        "X_train_scaled = scaler.fit_transform(X_train)\n",
        "X_test_scaled = scaler.transform(X_test)\n",
        "pca = PCA(n_components=2)\n",
        "X_train_pca = pca.fit_transform(X_train_scaled)\n",
        "X_test_pca = pca.transform(X_test_scaled)\n",
        "svm_pca = SVC()\n",
        "svm_pca.fit(X_train_pca, y_train)\n",
        "y_pred_pca = svm_pca.predict(X_test_pca)\n",
        "accuracy_pca = accuracy_score(y_test, y_pred_pca)\n",
        "print(f\"Accuracy after PCA: {accuracy_pca:.2f}\")"
      ],
      "metadata": {
        "colab": {
          "base_uri": "https://localhost:8080/"
        },
        "id": "qoYb1o_U911m",
        "outputId": "60ea433c-7878-4476-8a4b-9c504e82495a"
      },
      "execution_count": 62,
      "outputs": [
        {
          "output_type": "stream",
          "name": "stdout",
          "text": [
            "Accuracy before PCA: 0.69\n",
            "Accuracy after PCA: 0.96\n"
          ]
        }
      ]
    },
    {
      "cell_type": "code",
      "source": [
        "import pandas as pd\n",
        "a=pd.read_csv(\"/content/breast_cancer_survival (1) (1).csv\")\n",
        "print(a)"
      ],
      "metadata": {
        "colab": {
          "base_uri": "https://localhost:8080/"
        },
        "id": "a6e5A2EmC7Bt",
        "outputId": "60fffdb3-de58-45e0-c7b0-dd0c7db8b21d"
      },
      "execution_count": 63,
      "outputs": [
        {
          "output_type": "stream",
          "name": "stdout",
          "text": [
            "     Age  Gender  Protein1  Protein2  Protein3  Protein4 Tumour_Stage  \\\n",
            "0     42  FEMALE  0.952560   2.15000  0.007972 -0.048340           II   \n",
            "1     54  FEMALE  0.000000   1.38020 -0.498030 -0.507320           II   \n",
            "2     63  FEMALE -0.523030   1.76400 -0.370190  0.010815           II   \n",
            "3     78  FEMALE -0.876180   0.12943 -0.370380  0.132190            I   \n",
            "4     42  FEMALE  0.226110   1.74910 -0.543970 -0.390210           II   \n",
            "..   ...     ...       ...       ...       ...       ...          ...   \n",
            "329   59  FEMALE  0.024598   1.40050  0.024751  0.280320           II   \n",
            "330   41  FEMALE  0.100120  -0.46547  0.472370 -0.523870            I   \n",
            "331   54  FEMALE  0.753820   1.64250 -0.332850  0.857860           II   \n",
            "332   74  FEMALE  0.972510   1.42680 -0.366570 -0.107820           II   \n",
            "333   66  FEMALE  0.286380   1.39980  0.318830  0.836050           II   \n",
            "\n",
            "                          Histology ER status PR status HER2 status  \\\n",
            "0     Infiltrating Ductal Carcinoma  Positive  Positive    Negative   \n",
            "1     Infiltrating Ductal Carcinoma  Positive  Positive    Negative   \n",
            "2     Infiltrating Ductal Carcinoma  Positive  Positive    Negative   \n",
            "3     Infiltrating Ductal Carcinoma  Positive  Positive    Negative   \n",
            "4     Infiltrating Ductal Carcinoma  Positive  Positive    Positive   \n",
            "..                              ...       ...       ...         ...   \n",
            "329   Infiltrating Ductal Carcinoma  Positive  Positive    Positive   \n",
            "330   Infiltrating Ductal Carcinoma  Positive  Positive    Positive   \n",
            "331   Infiltrating Ductal Carcinoma  Positive  Positive    Negative   \n",
            "332  Infiltrating Lobular Carcinoma  Positive  Positive    Negative   \n",
            "333   Infiltrating Ductal Carcinoma  Positive  Positive    Negative   \n",
            "\n",
            "                    Surgery_type Date_of_Surgery Date_of_Last_Visit  \\\n",
            "0                          Other       20-May-18          26-Aug-18   \n",
            "1                          Other       26-Apr-18          25-Jan-19   \n",
            "2                     Lumpectomy       24-Aug-18          08-Apr-20   \n",
            "3                          Other       16-Nov-18          28-Jul-20   \n",
            "4                     Lumpectomy       12-Dec-18          05-Jan-19   \n",
            "..                           ...             ...                ...   \n",
            "329                   Lumpectomy       15-Jan-19          27-Mar-20   \n",
            "330  Modified Radical Mastectomy       25-Jul-18          23-Apr-19   \n",
            "331            Simple Mastectomy       26-Mar-19          11-Oct-19   \n",
            "332                   Lumpectomy       26-Nov-18          05-Dec-18   \n",
            "333  Modified Radical Mastectomy       04-Feb-19          10-Aug-19   \n",
            "\n",
            "    Patient_Status  \n",
            "0            Alive  \n",
            "1             Dead  \n",
            "2            Alive  \n",
            "3            Alive  \n",
            "4            Alive  \n",
            "..             ...  \n",
            "329          Alive  \n",
            "330          Alive  \n",
            "331           Dead  \n",
            "332          Alive  \n",
            "333           Dead  \n",
            "\n",
            "[334 rows x 15 columns]\n"
          ]
        }
      ]
    },
    {
      "cell_type": "code",
      "source": [
        "x=a.drop('Patient_Status',axis=1)\n",
        "print(x)\n"
      ],
      "metadata": {
        "colab": {
          "base_uri": "https://localhost:8080/"
        },
        "id": "1_mzcmDaHI_G",
        "outputId": "3119584f-f33e-4b3f-a840-1a8f2bca9860"
      },
      "execution_count": 64,
      "outputs": [
        {
          "output_type": "stream",
          "name": "stdout",
          "text": [
            "     Age  Gender  Protein1  Protein2  Protein3  Protein4 Tumour_Stage  \\\n",
            "0     42  FEMALE  0.952560   2.15000  0.007972 -0.048340           II   \n",
            "1     54  FEMALE  0.000000   1.38020 -0.498030 -0.507320           II   \n",
            "2     63  FEMALE -0.523030   1.76400 -0.370190  0.010815           II   \n",
            "3     78  FEMALE -0.876180   0.12943 -0.370380  0.132190            I   \n",
            "4     42  FEMALE  0.226110   1.74910 -0.543970 -0.390210           II   \n",
            "..   ...     ...       ...       ...       ...       ...          ...   \n",
            "329   59  FEMALE  0.024598   1.40050  0.024751  0.280320           II   \n",
            "330   41  FEMALE  0.100120  -0.46547  0.472370 -0.523870            I   \n",
            "331   54  FEMALE  0.753820   1.64250 -0.332850  0.857860           II   \n",
            "332   74  FEMALE  0.972510   1.42680 -0.366570 -0.107820           II   \n",
            "333   66  FEMALE  0.286380   1.39980  0.318830  0.836050           II   \n",
            "\n",
            "                          Histology ER status PR status HER2 status  \\\n",
            "0     Infiltrating Ductal Carcinoma  Positive  Positive    Negative   \n",
            "1     Infiltrating Ductal Carcinoma  Positive  Positive    Negative   \n",
            "2     Infiltrating Ductal Carcinoma  Positive  Positive    Negative   \n",
            "3     Infiltrating Ductal Carcinoma  Positive  Positive    Negative   \n",
            "4     Infiltrating Ductal Carcinoma  Positive  Positive    Positive   \n",
            "..                              ...       ...       ...         ...   \n",
            "329   Infiltrating Ductal Carcinoma  Positive  Positive    Positive   \n",
            "330   Infiltrating Ductal Carcinoma  Positive  Positive    Positive   \n",
            "331   Infiltrating Ductal Carcinoma  Positive  Positive    Negative   \n",
            "332  Infiltrating Lobular Carcinoma  Positive  Positive    Negative   \n",
            "333   Infiltrating Ductal Carcinoma  Positive  Positive    Negative   \n",
            "\n",
            "                    Surgery_type Date_of_Surgery Date_of_Last_Visit  \n",
            "0                          Other       20-May-18          26-Aug-18  \n",
            "1                          Other       26-Apr-18          25-Jan-19  \n",
            "2                     Lumpectomy       24-Aug-18          08-Apr-20  \n",
            "3                          Other       16-Nov-18          28-Jul-20  \n",
            "4                     Lumpectomy       12-Dec-18          05-Jan-19  \n",
            "..                           ...             ...                ...  \n",
            "329                   Lumpectomy       15-Jan-19          27-Mar-20  \n",
            "330  Modified Radical Mastectomy       25-Jul-18          23-Apr-19  \n",
            "331            Simple Mastectomy       26-Mar-19          11-Oct-19  \n",
            "332                   Lumpectomy       26-Nov-18          05-Dec-18  \n",
            "333  Modified Radical Mastectomy       04-Feb-19          10-Aug-19  \n",
            "\n",
            "[334 rows x 14 columns]\n"
          ]
        }
      ]
    },
    {
      "cell_type": "code",
      "source": [
        "y=a['Patient_Status']\n",
        "print(y)"
      ],
      "metadata": {
        "colab": {
          "base_uri": "https://localhost:8080/"
        },
        "id": "uFoEFoe1HQn6",
        "outputId": "1155837e-e1b8-4cb3-b132-ae90d82ca12d"
      },
      "execution_count": 65,
      "outputs": [
        {
          "output_type": "stream",
          "name": "stdout",
          "text": [
            "0      Alive\n",
            "1       Dead\n",
            "2      Alive\n",
            "3      Alive\n",
            "4      Alive\n",
            "       ...  \n",
            "329    Alive\n",
            "330    Alive\n",
            "331     Dead\n",
            "332    Alive\n",
            "333     Dead\n",
            "Name: Patient_Status, Length: 334, dtype: object\n"
          ]
        }
      ]
    },
    {
      "cell_type": "code",
      "source": [
        "x1=a.drop('HER2 status',axis=1)\n",
        "x2=x1.drop('Patient_Status',axis=1)\n",
        "x3=x2.drop('Surgery_type',axis=1)\n",
        "x4=x3.drop('Date_of_Surgery',axis=1)\n",
        "x5=x4.drop('Date_of_Last_Visit',axis=1)\n",
        "x6=x5.drop('Histology',axis=1)\n",
        "x7=x6.drop('PR status',axis=1)\n",
        "x8=x7.drop('ER status',axis=1)\n",
        "print(x8)\n",
        "x=x8"
      ],
      "metadata": {
        "colab": {
          "base_uri": "https://localhost:8080/"
        },
        "id": "00ximcmlHTq-",
        "outputId": "dd4a56ef-b132-4224-9cdb-9937f183b703"
      },
      "execution_count": 66,
      "outputs": [
        {
          "output_type": "stream",
          "name": "stdout",
          "text": [
            "     Age  Gender  Protein1  Protein2  Protein3  Protein4 Tumour_Stage\n",
            "0     42  FEMALE  0.952560   2.15000  0.007972 -0.048340           II\n",
            "1     54  FEMALE  0.000000   1.38020 -0.498030 -0.507320           II\n",
            "2     63  FEMALE -0.523030   1.76400 -0.370190  0.010815           II\n",
            "3     78  FEMALE -0.876180   0.12943 -0.370380  0.132190            I\n",
            "4     42  FEMALE  0.226110   1.74910 -0.543970 -0.390210           II\n",
            "..   ...     ...       ...       ...       ...       ...          ...\n",
            "329   59  FEMALE  0.024598   1.40050  0.024751  0.280320           II\n",
            "330   41  FEMALE  0.100120  -0.46547  0.472370 -0.523870            I\n",
            "331   54  FEMALE  0.753820   1.64250 -0.332850  0.857860           II\n",
            "332   74  FEMALE  0.972510   1.42680 -0.366570 -0.107820           II\n",
            "333   66  FEMALE  0.286380   1.39980  0.318830  0.836050           II\n",
            "\n",
            "[334 rows x 7 columns]\n"
          ]
        }
      ]
    },
    {
      "cell_type": "code",
      "source": [
        "x['Tumour_Stage'] = x['Tumour_Stage'].replace(\"I\",1)\n",
        "x.to_csv(\"updated_breast_cancer_survival.csv\", index=False)\n",
        "x['Tumour_Stage'] = x['Tumour_Stage'].replace(\"II\",2)\n",
        "x.to_csv(\"updated_breast_cancer_survival.csv\", index=False)\n",
        "x['Tumour_Stage'] = x['Tumour_Stage'].replace(\"III\",3)\n",
        "x.to_csv(\"updated_breast_cancer_survival.csv\", index=False)\n",
        "x['Gender'] = x['Gender'].map({'FEMALE': 1, 'MALE': 0})\n",
        "x.to_csv(\"updated_breast_cancer_survival.csv\", index=False)\n",
        "print(\"FEATURES:\\n\\n\")\n",
        "print(x)"
      ],
      "metadata": {
        "colab": {
          "base_uri": "https://localhost:8080/"
        },
        "id": "C9VceowGHWk8",
        "outputId": "5630c349-c34a-4d28-acd8-0a3d0da2428e"
      },
      "execution_count": 67,
      "outputs": [
        {
          "output_type": "stream",
          "name": "stdout",
          "text": [
            "FEATURES:\n",
            "\n",
            "\n",
            "     Age  Gender  Protein1  Protein2  Protein3  Protein4  Tumour_Stage\n",
            "0     42       1  0.952560   2.15000  0.007972 -0.048340             2\n",
            "1     54       1  0.000000   1.38020 -0.498030 -0.507320             2\n",
            "2     63       1 -0.523030   1.76400 -0.370190  0.010815             2\n",
            "3     78       1 -0.876180   0.12943 -0.370380  0.132190             1\n",
            "4     42       1  0.226110   1.74910 -0.543970 -0.390210             2\n",
            "..   ...     ...       ...       ...       ...       ...           ...\n",
            "329   59       1  0.024598   1.40050  0.024751  0.280320             2\n",
            "330   41       1  0.100120  -0.46547  0.472370 -0.523870             1\n",
            "331   54       1  0.753820   1.64250 -0.332850  0.857860             2\n",
            "332   74       1  0.972510   1.42680 -0.366570 -0.107820             2\n",
            "333   66       1  0.286380   1.39980  0.318830  0.836050             2\n",
            "\n",
            "[334 rows x 7 columns]\n"
          ]
        }
      ]
    },
    {
      "cell_type": "code",
      "source": [
        "y0=a['Patient_Status']\n",
        "print(y0)\n",
        "y = y0.replace({\"Alive\": 1, \"Dead\": 0})\n",
        "y = y.fillna(0)\n",
        "y.to_csv(\"updated_breast_cancer_survival.csv\", index=False)\n",
        "print(\"TARGET VARIABLE:\")\n",
        "print(y)"
      ],
      "metadata": {
        "colab": {
          "base_uri": "https://localhost:8080/"
        },
        "id": "aFsWvynsJYru",
        "outputId": "c217ac30-8a2b-4581-d1c9-74db487114ac"
      },
      "execution_count": 68,
      "outputs": [
        {
          "output_type": "stream",
          "name": "stdout",
          "text": [
            "0      Alive\n",
            "1       Dead\n",
            "2      Alive\n",
            "3      Alive\n",
            "4      Alive\n",
            "       ...  \n",
            "329    Alive\n",
            "330    Alive\n",
            "331     Dead\n",
            "332    Alive\n",
            "333     Dead\n",
            "Name: Patient_Status, Length: 334, dtype: object\n",
            "TARGET VARIABLE:\n",
            "0      1.0\n",
            "1      0.0\n",
            "2      1.0\n",
            "3      1.0\n",
            "4      1.0\n",
            "      ... \n",
            "329    1.0\n",
            "330    1.0\n",
            "331    0.0\n",
            "332    1.0\n",
            "333    0.0\n",
            "Name: Patient_Status, Length: 334, dtype: float64\n"
          ]
        }
      ]
    },
    {
      "cell_type": "code",
      "source": [
        "from sklearn.metrics import accuracy_score\n",
        "accuracy = accuracy_score(y_test, logistic_predictions)\n",
        "print(\"Logistic Regression Accuracy:\", accuracy)\n",
        "from sklearn.metrics import accuracy_score\n",
        "accuracy = accuracy_score(y_test, svm_predictions)\n",
        "print(\"SVM Accuracy:\", accuracy)"
      ],
      "metadata": {
        "colab": {
          "base_uri": "https://localhost:8080/"
        },
        "id": "G7Mk6bdaQ7m1",
        "outputId": "5d8bdbca-7e94-4c36-c03d-a8474b32bbb5"
      },
      "execution_count": 94,
      "outputs": [
        {
          "output_type": "stream",
          "name": "stdout",
          "text": [
            "Logistic Regression Accuracy: 0.75\n",
            "SVM Accuracy: 0.4444444444444444\n"
          ]
        }
      ]
    },
    {
      "cell_type": "code",
      "source": [
        "import numpy as np\n",
        "from sklearn.metrics import accuracy_score\n",
        "import matplotlib.pyplot as plt\n",
        "\n",
        "# Assuming 'logistic_model' and 'svm_model' are already fitted to your data\n",
        "uncertainty_logistic = []\n",
        "uncertainty_svm = []\n",
        "subset_sizes = range(1, 51)\n",
        "\n",
        "for subset_size in subset_sizes:\n",
        "    # Get the first 'subset_size' samples from your test data\n",
        "    subset_X_test = X_test[:subset_size]\n",
        "    subset_y_test = y_test[:subset_size]\n",
        "\n",
        "    # Make predictions for the current subset\n",
        "    logistic_predictions = logistic_model.predict(subset_X_test)\n",
        "    svm_predictions = svm_model.predict(subset_X_test)\n",
        "\n",
        "    # Calculate accuracy for the current subset\n",
        "    logistic_accuracy = accuracy_score(subset_y_test, logistic_predictions)\n",
        "    svm_accuracy = accuracy_score(subset_y_test, svm_predictions)\n",
        "\n",
        "    uncertainty_logistic.append(1 - logistic_accuracy)\n",
        "    uncertainty_svm.append(1 - svm_accuracy)\n",
        "    print(logistic_accuracy)\n",
        "    print(svm_accuracy)\n",
        "plt.figure(figsize=(10, 6))\n",
        "plt.plot(subset_sizes, uncertainty_logistic, label='Logistic Regression', marker='o', linestyle='-', color='b')\n",
        "plt.plot(subset_sizes, uncertainty_svm, label='SVM', marker='o', linestyle='-', color='g')\n",
        "\n",
        "plt.title('Model Uncertainty vs. Sample Size')\n",
        "plt.xlabel('Number of Samples')\n",
        "plt.ylabel('Uncertainty (1 - Accuracy)')\n",
        "plt.legend()\n",
        "plt.grid(True)\n",
        "plt.show()"
      ],
      "metadata": {
        "colab": {
          "base_uri": "https://localhost:8080/",
          "height": 1000
        },
        "id": "AZP4n5VRQoKe",
        "outputId": "a0b02570-fcae-40f5-942d-0013b0e2de30"
      },
      "execution_count": 93,
      "outputs": [
        {
          "output_type": "stream",
          "name": "stderr",
          "text": [
            "/usr/local/lib/python3.10/dist-packages/sklearn/base.py:439: UserWarning: X does not have valid feature names, but LogisticRegression was fitted with feature names\n",
            "  warnings.warn(\n",
            "/usr/local/lib/python3.10/dist-packages/sklearn/base.py:439: UserWarning: X does not have valid feature names, but SVC was fitted with feature names\n",
            "  warnings.warn(\n",
            "/usr/local/lib/python3.10/dist-packages/sklearn/base.py:439: UserWarning: X does not have valid feature names, but LogisticRegression was fitted with feature names\n",
            "  warnings.warn(\n",
            "/usr/local/lib/python3.10/dist-packages/sklearn/base.py:439: UserWarning: X does not have valid feature names, but SVC was fitted with feature names\n",
            "  warnings.warn(\n",
            "/usr/local/lib/python3.10/dist-packages/sklearn/base.py:439: UserWarning: X does not have valid feature names, but LogisticRegression was fitted with feature names\n",
            "  warnings.warn(\n",
            "/usr/local/lib/python3.10/dist-packages/sklearn/base.py:439: UserWarning: X does not have valid feature names, but SVC was fitted with feature names\n",
            "  warnings.warn(\n",
            "/usr/local/lib/python3.10/dist-packages/sklearn/base.py:439: UserWarning: X does not have valid feature names, but LogisticRegression was fitted with feature names\n",
            "  warnings.warn(\n",
            "/usr/local/lib/python3.10/dist-packages/sklearn/base.py:439: UserWarning: X does not have valid feature names, but SVC was fitted with feature names\n",
            "  warnings.warn(\n",
            "/usr/local/lib/python3.10/dist-packages/sklearn/base.py:439: UserWarning: X does not have valid feature names, but LogisticRegression was fitted with feature names\n",
            "  warnings.warn(\n",
            "/usr/local/lib/python3.10/dist-packages/sklearn/base.py:439: UserWarning: X does not have valid feature names, but SVC was fitted with feature names\n",
            "  warnings.warn(\n",
            "/usr/local/lib/python3.10/dist-packages/sklearn/base.py:439: UserWarning: X does not have valid feature names, but LogisticRegression was fitted with feature names\n",
            "  warnings.warn(\n",
            "/usr/local/lib/python3.10/dist-packages/sklearn/base.py:439: UserWarning: X does not have valid feature names, but SVC was fitted with feature names\n",
            "  warnings.warn(\n",
            "/usr/local/lib/python3.10/dist-packages/sklearn/base.py:439: UserWarning: X does not have valid feature names, but LogisticRegression was fitted with feature names\n",
            "  warnings.warn(\n",
            "/usr/local/lib/python3.10/dist-packages/sklearn/base.py:439: UserWarning: X does not have valid feature names, but SVC was fitted with feature names\n",
            "  warnings.warn(\n",
            "/usr/local/lib/python3.10/dist-packages/sklearn/base.py:439: UserWarning: X does not have valid feature names, but LogisticRegression was fitted with feature names\n",
            "  warnings.warn(\n",
            "/usr/local/lib/python3.10/dist-packages/sklearn/base.py:439: UserWarning: X does not have valid feature names, but SVC was fitted with feature names\n",
            "  warnings.warn(\n",
            "/usr/local/lib/python3.10/dist-packages/sklearn/base.py:439: UserWarning: X does not have valid feature names, but LogisticRegression was fitted with feature names\n",
            "  warnings.warn(\n",
            "/usr/local/lib/python3.10/dist-packages/sklearn/base.py:439: UserWarning: X does not have valid feature names, but SVC was fitted with feature names\n",
            "  warnings.warn(\n",
            "/usr/local/lib/python3.10/dist-packages/sklearn/base.py:439: UserWarning: X does not have valid feature names, but LogisticRegression was fitted with feature names\n",
            "  warnings.warn(\n",
            "/usr/local/lib/python3.10/dist-packages/sklearn/base.py:439: UserWarning: X does not have valid feature names, but SVC was fitted with feature names\n",
            "  warnings.warn(\n",
            "/usr/local/lib/python3.10/dist-packages/sklearn/base.py:439: UserWarning: X does not have valid feature names, but LogisticRegression was fitted with feature names\n",
            "  warnings.warn(\n",
            "/usr/local/lib/python3.10/dist-packages/sklearn/base.py:439: UserWarning: X does not have valid feature names, but SVC was fitted with feature names\n",
            "  warnings.warn(\n",
            "/usr/local/lib/python3.10/dist-packages/sklearn/base.py:439: UserWarning: X does not have valid feature names, but LogisticRegression was fitted with feature names\n",
            "  warnings.warn(\n",
            "/usr/local/lib/python3.10/dist-packages/sklearn/base.py:439: UserWarning: X does not have valid feature names, but SVC was fitted with feature names\n",
            "  warnings.warn(\n",
            "/usr/local/lib/python3.10/dist-packages/sklearn/base.py:439: UserWarning: X does not have valid feature names, but LogisticRegression was fitted with feature names\n",
            "  warnings.warn(\n",
            "/usr/local/lib/python3.10/dist-packages/sklearn/base.py:439: UserWarning: X does not have valid feature names, but SVC was fitted with feature names\n",
            "  warnings.warn(\n",
            "/usr/local/lib/python3.10/dist-packages/sklearn/base.py:439: UserWarning: X does not have valid feature names, but LogisticRegression was fitted with feature names\n",
            "  warnings.warn(\n",
            "/usr/local/lib/python3.10/dist-packages/sklearn/base.py:439: UserWarning: X does not have valid feature names, but SVC was fitted with feature names\n",
            "  warnings.warn(\n",
            "/usr/local/lib/python3.10/dist-packages/sklearn/base.py:439: UserWarning: X does not have valid feature names, but LogisticRegression was fitted with feature names\n",
            "  warnings.warn(\n",
            "/usr/local/lib/python3.10/dist-packages/sklearn/base.py:439: UserWarning: X does not have valid feature names, but SVC was fitted with feature names\n",
            "  warnings.warn(\n",
            "/usr/local/lib/python3.10/dist-packages/sklearn/base.py:439: UserWarning: X does not have valid feature names, but LogisticRegression was fitted with feature names\n",
            "  warnings.warn(\n",
            "/usr/local/lib/python3.10/dist-packages/sklearn/base.py:439: UserWarning: X does not have valid feature names, but SVC was fitted with feature names\n",
            "  warnings.warn(\n",
            "/usr/local/lib/python3.10/dist-packages/sklearn/base.py:439: UserWarning: X does not have valid feature names, but LogisticRegression was fitted with feature names\n",
            "  warnings.warn(\n",
            "/usr/local/lib/python3.10/dist-packages/sklearn/base.py:439: UserWarning: X does not have valid feature names, but SVC was fitted with feature names\n",
            "  warnings.warn(\n",
            "/usr/local/lib/python3.10/dist-packages/sklearn/base.py:439: UserWarning: X does not have valid feature names, but LogisticRegression was fitted with feature names\n",
            "  warnings.warn(\n",
            "/usr/local/lib/python3.10/dist-packages/sklearn/base.py:439: UserWarning: X does not have valid feature names, but SVC was fitted with feature names\n",
            "  warnings.warn(\n",
            "/usr/local/lib/python3.10/dist-packages/sklearn/base.py:439: UserWarning: X does not have valid feature names, but LogisticRegression was fitted with feature names\n",
            "  warnings.warn(\n",
            "/usr/local/lib/python3.10/dist-packages/sklearn/base.py:439: UserWarning: X does not have valid feature names, but SVC was fitted with feature names\n",
            "  warnings.warn(\n",
            "/usr/local/lib/python3.10/dist-packages/sklearn/base.py:439: UserWarning: X does not have valid feature names, but LogisticRegression was fitted with feature names\n",
            "  warnings.warn(\n",
            "/usr/local/lib/python3.10/dist-packages/sklearn/base.py:439: UserWarning: X does not have valid feature names, but SVC was fitted with feature names\n",
            "  warnings.warn(\n",
            "/usr/local/lib/python3.10/dist-packages/sklearn/base.py:439: UserWarning: X does not have valid feature names, but LogisticRegression was fitted with feature names\n",
            "  warnings.warn(\n",
            "/usr/local/lib/python3.10/dist-packages/sklearn/base.py:439: UserWarning: X does not have valid feature names, but SVC was fitted with feature names\n",
            "  warnings.warn(\n",
            "/usr/local/lib/python3.10/dist-packages/sklearn/base.py:439: UserWarning: X does not have valid feature names, but LogisticRegression was fitted with feature names\n",
            "  warnings.warn(\n",
            "/usr/local/lib/python3.10/dist-packages/sklearn/base.py:439: UserWarning: X does not have valid feature names, but SVC was fitted with feature names\n",
            "  warnings.warn(\n",
            "/usr/local/lib/python3.10/dist-packages/sklearn/base.py:439: UserWarning: X does not have valid feature names, but LogisticRegression was fitted with feature names\n",
            "  warnings.warn(\n",
            "/usr/local/lib/python3.10/dist-packages/sklearn/base.py:439: UserWarning: X does not have valid feature names, but SVC was fitted with feature names\n",
            "  warnings.warn(\n",
            "/usr/local/lib/python3.10/dist-packages/sklearn/base.py:439: UserWarning: X does not have valid feature names, but LogisticRegression was fitted with feature names\n",
            "  warnings.warn(\n",
            "/usr/local/lib/python3.10/dist-packages/sklearn/base.py:439: UserWarning: X does not have valid feature names, but SVC was fitted with feature names\n",
            "  warnings.warn(\n",
            "/usr/local/lib/python3.10/dist-packages/sklearn/base.py:439: UserWarning: X does not have valid feature names, but LogisticRegression was fitted with feature names\n",
            "  warnings.warn(\n",
            "/usr/local/lib/python3.10/dist-packages/sklearn/base.py:439: UserWarning: X does not have valid feature names, but SVC was fitted with feature names\n",
            "  warnings.warn(\n",
            "/usr/local/lib/python3.10/dist-packages/sklearn/base.py:439: UserWarning: X does not have valid feature names, but LogisticRegression was fitted with feature names\n",
            "  warnings.warn(\n",
            "/usr/local/lib/python3.10/dist-packages/sklearn/base.py:439: UserWarning: X does not have valid feature names, but SVC was fitted with feature names\n",
            "  warnings.warn(\n",
            "/usr/local/lib/python3.10/dist-packages/sklearn/base.py:439: UserWarning: X does not have valid feature names, but LogisticRegression was fitted with feature names\n",
            "  warnings.warn(\n",
            "/usr/local/lib/python3.10/dist-packages/sklearn/base.py:439: UserWarning: X does not have valid feature names, but SVC was fitted with feature names\n",
            "  warnings.warn(\n",
            "/usr/local/lib/python3.10/dist-packages/sklearn/base.py:439: UserWarning: X does not have valid feature names, but LogisticRegression was fitted with feature names\n",
            "  warnings.warn(\n",
            "/usr/local/lib/python3.10/dist-packages/sklearn/base.py:439: UserWarning: X does not have valid feature names, but SVC was fitted with feature names\n",
            "  warnings.warn(\n",
            "/usr/local/lib/python3.10/dist-packages/sklearn/base.py:439: UserWarning: X does not have valid feature names, but LogisticRegression was fitted with feature names\n",
            "  warnings.warn(\n",
            "/usr/local/lib/python3.10/dist-packages/sklearn/base.py:439: UserWarning: X does not have valid feature names, but SVC was fitted with feature names\n",
            "  warnings.warn(\n",
            "/usr/local/lib/python3.10/dist-packages/sklearn/base.py:439: UserWarning: X does not have valid feature names, but LogisticRegression was fitted with feature names\n",
            "  warnings.warn(\n",
            "/usr/local/lib/python3.10/dist-packages/sklearn/base.py:439: UserWarning: X does not have valid feature names, but SVC was fitted with feature names\n",
            "  warnings.warn(\n",
            "/usr/local/lib/python3.10/dist-packages/sklearn/base.py:439: UserWarning: X does not have valid feature names, but LogisticRegression was fitted with feature names\n",
            "  warnings.warn(\n",
            "/usr/local/lib/python3.10/dist-packages/sklearn/base.py:439: UserWarning: X does not have valid feature names, but SVC was fitted with feature names\n",
            "  warnings.warn(\n",
            "/usr/local/lib/python3.10/dist-packages/sklearn/base.py:439: UserWarning: X does not have valid feature names, but LogisticRegression was fitted with feature names\n",
            "  warnings.warn(\n",
            "/usr/local/lib/python3.10/dist-packages/sklearn/base.py:439: UserWarning: X does not have valid feature names, but SVC was fitted with feature names\n",
            "  warnings.warn(\n",
            "/usr/local/lib/python3.10/dist-packages/sklearn/base.py:439: UserWarning: X does not have valid feature names, but LogisticRegression was fitted with feature names\n",
            "  warnings.warn(\n",
            "/usr/local/lib/python3.10/dist-packages/sklearn/base.py:439: UserWarning: X does not have valid feature names, but SVC was fitted with feature names\n",
            "  warnings.warn(\n",
            "/usr/local/lib/python3.10/dist-packages/sklearn/base.py:439: UserWarning: X does not have valid feature names, but LogisticRegression was fitted with feature names\n",
            "  warnings.warn(\n",
            "/usr/local/lib/python3.10/dist-packages/sklearn/base.py:439: UserWarning: X does not have valid feature names, but SVC was fitted with feature names\n",
            "  warnings.warn(\n",
            "/usr/local/lib/python3.10/dist-packages/sklearn/base.py:439: UserWarning: X does not have valid feature names, but LogisticRegression was fitted with feature names\n",
            "  warnings.warn(\n",
            "/usr/local/lib/python3.10/dist-packages/sklearn/base.py:439: UserWarning: X does not have valid feature names, but SVC was fitted with feature names\n",
            "  warnings.warn(\n",
            "/usr/local/lib/python3.10/dist-packages/sklearn/base.py:439: UserWarning: X does not have valid feature names, but LogisticRegression was fitted with feature names\n",
            "  warnings.warn(\n",
            "/usr/local/lib/python3.10/dist-packages/sklearn/base.py:439: UserWarning: X does not have valid feature names, but SVC was fitted with feature names\n",
            "  warnings.warn(\n",
            "/usr/local/lib/python3.10/dist-packages/sklearn/base.py:439: UserWarning: X does not have valid feature names, but LogisticRegression was fitted with feature names\n",
            "  warnings.warn(\n",
            "/usr/local/lib/python3.10/dist-packages/sklearn/base.py:439: UserWarning: X does not have valid feature names, but SVC was fitted with feature names\n",
            "  warnings.warn(\n",
            "/usr/local/lib/python3.10/dist-packages/sklearn/base.py:439: UserWarning: X does not have valid feature names, but LogisticRegression was fitted with feature names\n",
            "  warnings.warn(\n",
            "/usr/local/lib/python3.10/dist-packages/sklearn/base.py:439: UserWarning: X does not have valid feature names, but SVC was fitted with feature names\n",
            "  warnings.warn(\n",
            "/usr/local/lib/python3.10/dist-packages/sklearn/base.py:439: UserWarning: X does not have valid feature names, but LogisticRegression was fitted with feature names\n",
            "  warnings.warn(\n",
            "/usr/local/lib/python3.10/dist-packages/sklearn/base.py:439: UserWarning: X does not have valid feature names, but SVC was fitted with feature names\n",
            "  warnings.warn(\n",
            "/usr/local/lib/python3.10/dist-packages/sklearn/base.py:439: UserWarning: X does not have valid feature names, but LogisticRegression was fitted with feature names\n",
            "  warnings.warn(\n",
            "/usr/local/lib/python3.10/dist-packages/sklearn/base.py:439: UserWarning: X does not have valid feature names, but SVC was fitted with feature names\n",
            "  warnings.warn(\n",
            "/usr/local/lib/python3.10/dist-packages/sklearn/base.py:439: UserWarning: X does not have valid feature names, but LogisticRegression was fitted with feature names\n",
            "  warnings.warn(\n",
            "/usr/local/lib/python3.10/dist-packages/sklearn/base.py:439: UserWarning: X does not have valid feature names, but SVC was fitted with feature names\n",
            "  warnings.warn(\n",
            "/usr/local/lib/python3.10/dist-packages/sklearn/base.py:439: UserWarning: X does not have valid feature names, but LogisticRegression was fitted with feature names\n",
            "  warnings.warn(\n",
            "/usr/local/lib/python3.10/dist-packages/sklearn/base.py:439: UserWarning: X does not have valid feature names, but SVC was fitted with feature names\n",
            "  warnings.warn(\n",
            "/usr/local/lib/python3.10/dist-packages/sklearn/base.py:439: UserWarning: X does not have valid feature names, but LogisticRegression was fitted with feature names\n",
            "  warnings.warn(\n",
            "/usr/local/lib/python3.10/dist-packages/sklearn/base.py:439: UserWarning: X does not have valid feature names, but SVC was fitted with feature names\n",
            "  warnings.warn(\n",
            "/usr/local/lib/python3.10/dist-packages/sklearn/base.py:439: UserWarning: X does not have valid feature names, but LogisticRegression was fitted with feature names\n",
            "  warnings.warn(\n",
            "/usr/local/lib/python3.10/dist-packages/sklearn/base.py:439: UserWarning: X does not have valid feature names, but SVC was fitted with feature names\n",
            "  warnings.warn(\n",
            "/usr/local/lib/python3.10/dist-packages/sklearn/base.py:439: UserWarning: X does not have valid feature names, but LogisticRegression was fitted with feature names\n",
            "  warnings.warn(\n",
            "/usr/local/lib/python3.10/dist-packages/sklearn/base.py:439: UserWarning: X does not have valid feature names, but SVC was fitted with feature names\n",
            "  warnings.warn(\n",
            "/usr/local/lib/python3.10/dist-packages/sklearn/base.py:439: UserWarning: X does not have valid feature names, but LogisticRegression was fitted with feature names\n",
            "  warnings.warn(\n",
            "/usr/local/lib/python3.10/dist-packages/sklearn/base.py:439: UserWarning: X does not have valid feature names, but SVC was fitted with feature names\n",
            "  warnings.warn(\n",
            "/usr/local/lib/python3.10/dist-packages/sklearn/base.py:439: UserWarning: X does not have valid feature names, but LogisticRegression was fitted with feature names\n",
            "  warnings.warn(\n",
            "/usr/local/lib/python3.10/dist-packages/sklearn/base.py:439: UserWarning: X does not have valid feature names, but SVC was fitted with feature names\n",
            "  warnings.warn(\n",
            "/usr/local/lib/python3.10/dist-packages/sklearn/base.py:439: UserWarning: X does not have valid feature names, but LogisticRegression was fitted with feature names\n",
            "  warnings.warn(\n",
            "/usr/local/lib/python3.10/dist-packages/sklearn/base.py:439: UserWarning: X does not have valid feature names, but SVC was fitted with feature names\n",
            "  warnings.warn(\n",
            "/usr/local/lib/python3.10/dist-packages/sklearn/base.py:439: UserWarning: X does not have valid feature names, but LogisticRegression was fitted with feature names\n",
            "  warnings.warn(\n",
            "/usr/local/lib/python3.10/dist-packages/sklearn/base.py:439: UserWarning: X does not have valid feature names, but SVC was fitted with feature names\n",
            "  warnings.warn(\n",
            "/usr/local/lib/python3.10/dist-packages/sklearn/base.py:439: UserWarning: X does not have valid feature names, but LogisticRegression was fitted with feature names\n",
            "  warnings.warn(\n",
            "/usr/local/lib/python3.10/dist-packages/sklearn/base.py:439: UserWarning: X does not have valid feature names, but SVC was fitted with feature names\n",
            "  warnings.warn(\n"
          ]
        },
        {
          "output_type": "stream",
          "name": "stdout",
          "text": [
            "1.0\n",
            "0.0\n",
            "1.0\n",
            "0.0\n",
            "1.0\n",
            "0.3333333333333333\n",
            "1.0\n",
            "0.25\n",
            "0.8\n",
            "0.4\n",
            "0.6666666666666666\n",
            "0.5\n",
            "0.7142857142857143\n",
            "0.42857142857142855\n",
            "0.75\n",
            "0.375\n",
            "0.7777777777777778\n",
            "0.4444444444444444\n",
            "0.8\n",
            "0.5\n",
            "0.7272727272727273\n",
            "0.45454545454545453\n",
            "0.75\n",
            "0.4166666666666667\n",
            "0.7692307692307693\n",
            "0.38461538461538464\n",
            "0.7857142857142857\n",
            "0.42857142857142855\n",
            "0.8\n",
            "0.4\n",
            "0.8125\n",
            "0.4375\n",
            "0.7647058823529411\n",
            "0.4117647058823529\n",
            "0.7777777777777778\n",
            "0.3888888888888889\n",
            "0.7368421052631579\n",
            "0.42105263157894735\n",
            "0.75\n",
            "0.4\n",
            "0.7619047619047619\n",
            "0.42857142857142855\n",
            "0.7272727272727273\n",
            "0.4090909090909091\n",
            "0.7391304347826086\n",
            "0.391304347826087\n",
            "0.75\n",
            "0.4166666666666667\n",
            "0.76\n",
            "0.44\n",
            "0.7692307692307693\n",
            "0.46153846153846156\n",
            "0.7777777777777778\n",
            "0.48148148148148145\n",
            "0.7857142857142857\n",
            "0.5\n",
            "0.7586206896551724\n",
            "0.5172413793103449\n",
            "0.7666666666666667\n",
            "0.5\n",
            "0.7741935483870968\n",
            "0.4838709677419355\n",
            "0.78125\n",
            "0.46875\n",
            "0.7575757575757576\n",
            "0.48484848484848486\n",
            "0.7647058823529411\n",
            "0.47058823529411764\n",
            "0.7428571428571429\n",
            "0.45714285714285713\n",
            "0.75\n",
            "0.4444444444444444\n",
            "0.75\n",
            "0.4444444444444444\n",
            "0.75\n",
            "0.4444444444444444\n",
            "0.75\n",
            "0.4444444444444444\n",
            "0.75\n",
            "0.4444444444444444\n",
            "0.75\n",
            "0.4444444444444444\n",
            "0.75\n",
            "0.4444444444444444\n",
            "0.75\n",
            "0.4444444444444444\n",
            "0.75\n",
            "0.4444444444444444\n",
            "0.75\n",
            "0.4444444444444444\n",
            "0.75\n",
            "0.4444444444444444\n",
            "0.75\n",
            "0.4444444444444444\n",
            "0.75\n",
            "0.4444444444444444\n",
            "0.75\n",
            "0.4444444444444444\n",
            "0.75\n",
            "0.4444444444444444\n"
          ]
        },
        {
          "output_type": "display_data",
          "data": {
            "text/plain": [
              "<Figure size 1000x600 with 1 Axes>"
            ],
            "image/png": "[encoded data removed]"
          },
          "metadata": {}
        }
      ]
    },
    {
      "cell_type": "code",
      "source": [],
      "metadata": {
        "id": "Q6rFtea4QvAl"
      },
      "execution_count": null,
      "outputs": []
    }
  ]
}